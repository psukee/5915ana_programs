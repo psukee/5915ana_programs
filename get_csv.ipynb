{
 "cells": [
  {
   "cell_type": "code",
   "execution_count": 1,
   "metadata": {},
   "outputs": [
    {
     "name": "stderr",
     "output_type": "stream",
     "text": [
      "[WDM] - \n",
      "\n",
      "[WDM] - ====== WebDriver manager ======\n",
      "[WDM] - Current google-chrome version is 96.0.4664\n",
      "[WDM] - Get LATEST driver version for 96.0.4664\n",
      "[WDM] - Driver [/Users/yusuke_miyazaki/.wdm/drivers/chromedriver/mac64/96.0.4664.45/chromedriver] found in cache\n"
     ]
    }
   ],
   "source": [
    "####ヘッドレスじゃなければ動くのをきれいにする。\n",
    "\n",
    "#初期準備\n",
    "from selenium import webdriver\n",
    "from time import sleep\n",
    "from selenium.webdriver.chrome.options import Options\n",
    "from webdriver_manager.chrome import ChromeDriverManager\n",
    "\n",
    "import os\n",
    "import shutil\n",
    "\n",
    "####このosの部分をごちゃごちゃいじってると上手くいったりいかなかったりする。謎い\n",
    "os.chdir('/Users/yusuke_miyazaki/Downloads/')\n",
    "#company_list = pd.read_csv('select_stocknumber.csv')\n",
    "\n",
    "#identified = [7370,4170,7358,2987,4056,4495,4493,4880,7061,7059,4434,7049,4427,3498,4598,3491,7033,4597,9519,3967,2160,4176,4934,4012,4058,4499,4052,4483,7060,4428,5290,6565,3540,6537,4572]\n",
    "new_elite = [7358,2987,4056,4493,4880,7061,7059,4434,7049,4427,3498,9519,2160,7370,2395,2929]\n",
    "c_n=new_elite\n",
    "c_n = [5915,4751,5801,5802]\n",
    "\n",
    "#　ヘッドレスモードでブラウザを起動\n",
    "options = Options()\n",
    "options.add_argument('--user-agent=Mozilla/5.0 (Windows NT 6.1; Win64; x64)')\n",
    "options.add_argument('--headless')\n",
    "\n",
    "# ブラウザーを起動\n",
    "\n",
    "driver = webdriver.Chrome(ChromeDriverManager().install(),options=options) \n",
    "\n",
    "\n",
    "\n",
    "url_login = 'https://login.yahoo.co.jp/config/login?.src=finance&lg=jp&.intl=jp&.done=https%3A%2F%2Ffinance.yahoo.co.jp%2Fquote%2F1379.T%2Fhistory%3Ffrom%3D19440301%26to%3D20320501%26timeFrame%3Dd%26page%3D1'\n",
    "url = 'https://finance.yahoo.co.jp/quote/1301.T/history?from=19440301&to=20320501&timeFrame=d&page=1'\n",
    "\n",
    "\n",
    "driver.get(url_login)\n",
    "\n",
    "sleep(1)\n",
    "\n",
    "elem_username = driver.find_element_by_id('username')\n",
    "elem_username.send_keys('gtan3692')\n",
    "elem_username_btn = driver.find_element_by_id('btnNext')\n",
    "elem_username_btn.click()\n",
    "\n",
    "sleep(1)\n",
    "\n",
    "elem_password = driver.find_element_by_id('passwd')\n",
    "elem_password.send_keys('Hiro#0605')\n",
    "elem_password_btn = driver.find_element_by_id('btnSubmit')\n",
    "elem_password_btn.click()\n",
    "\n",
    "\n",
    "\n",
    "\n",
    "try:\n",
    "    for k,i in enumerate(c_n):\n",
    "        sleep(1)\n",
    "        os.remove('/Users/yusuke_miyazaki/Desktop/stock/stock_csv_y/stock_yahoo/{}.T.csv'.format(i))\n",
    "        \n",
    "\n",
    "        sleep(1)\n",
    "        url = 'https://finance.yahoo.co.jp/quote/{}.T/history/download'.format(i)\n",
    "        driver.get(url)\n",
    "        \n",
    "        \n",
    "        sleep(1)\n",
    "        \n",
    "        shutil.move('/Users/yusuke_miyazaki/Downloads/{}.T.csv'.format(i),'/Users/yusuke_miyazaki/Desktop/stock/stock_csv_y/stock_yahoo')\n",
    "        \n",
    "        \n",
    "        print(i)\n",
    "        \n",
    "except:\n",
    "    c_n = c_n[k+1:]\n",
    "    print('stop',i)\n",
    "\n",
    "\n",
    "\n",
    "\n",
    "\n",
    "\n"
   ]
  },
  {
   "cell_type": "code",
   "execution_count": null,
   "metadata": {},
   "outputs": [],
   "source": []
  }
 ],
 "metadata": {
  "interpreter": {
   "hash": "40d3a090f54c6569ab1632332b64b2c03c39dcf918b08424e98f38b5ae0af88f"
  },
  "kernelspec": {
   "display_name": "Python 3.8.5 64-bit ('base': conda)",
   "language": "python",
   "name": "python3"
  },
  "language_info": {
   "codemirror_mode": {
    "name": "ipython",
    "version": 3
   },
   "file_extension": ".py",
   "mimetype": "text/x-python",
   "name": "python",
   "nbconvert_exporter": "python",
   "pygments_lexer": "ipython3",
   "version": "3.8.5"
  },
  "orig_nbformat": 4
 },
 "nbformat": 4,
 "nbformat_minor": 2
}
